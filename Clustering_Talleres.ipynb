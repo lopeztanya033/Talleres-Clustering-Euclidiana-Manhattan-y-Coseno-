{
  "cells": [
    {
      "cell_type": "markdown",
      "metadata": {
        "id": "view-in-github",
        "colab_type": "text"
      },
      "source": [
        "<a href=\"https://colab.research.google.com/github/lopeztanya033/Talleres-Clustering-Euclidiana-Manhattan-y-Coseno-/blob/main/Clustering_Talleres.ipynb\" target=\"_parent\"><img src=\"https://colab.research.google.com/assets/colab-badge.svg\" alt=\"Open In Colab\"/></a>"
      ]
    },
    {
      "cell_type": "markdown",
      "source": [
        "# **1. Distancia Euclidiana ( 20 minutos) **\n",
        "Caso de Estudio 1.1: Clasificación de Células Cancerígenas\n",
        "Un equipo de investigadores médicos está analizando muestras de células para determinar si son benignas o malignas. Cada célula está caracterizada por 5 atributos numéricos que representan diferentes propiedades morfológicas:\n",
        "x_1: Tamaño del núcleo (escala 1-10)\n",
        "x_2: Uniformidad del tamaño celular (escala 1-10)\n",
        "x_3: Uniformidad de la forma celular (escala 1-10)\n",
        "x_4: Adhesión marginal (escala 1-10)\n",
        "x_5: Tamaño de nucleolos (escala 1-10)\n"
      ],
      "metadata": {
        "id": "J2N8RaF5HpiT"
      },
      "id": "J2N8RaF5HpiT"
    },
    {
      "cell_type": "markdown",
      "source": [],
      "metadata": {
        "id": "xXXHUUxvHc4D"
      },
      "id": "xXXHUUxvHc4D"
    },
    {
      "cell_type": "code",
      "execution_count": null,
      "id": "b83bbbcf-8891-4043-857f-d0612997d03a",
      "metadata": {
        "id": "b83bbbcf-8891-4043-857f-d0612997d03a"
      },
      "outputs": [],
      "source": [
        "import pandas as pd\n",
        "import numpy as np\n",
        "from scipy.spatial import distance"
      ]
    },
    {
      "cell_type": "code",
      "execution_count": null,
      "id": "7347cb87-8423-489f-aedb-2ad1e4b61c88",
      "metadata": {
        "id": "7347cb87-8423-489f-aedb-2ad1e4b61c88",
        "outputId": "277c4057-6c2b-4834-a8df-acb665db2ca9"
      },
      "outputs": [
        {
          "name": "stdout",
          "output_type": "stream",
          "text": [
            "Datos originales (Altura y Peso):\n",
            "  Celula  TamanoNucleo  TamanoCelular  FormaCelular  AdhesionMarginal  \\\n",
            "0      A             4              2             1                 3   \n",
            "1      B             8              7             6                 9   \n",
            "2      C             3              2             2                 2   \n",
            "3      D             9              8             7                 8   \n",
            "4      E             5              4             3                 6   \n",
            "\n",
            "   TamanoNucleolo Tipo  \n",
            "0               2    B  \n",
            "1               7    M  \n",
            "2               1    B  \n",
            "3               9    M  \n",
            "4               5  NaN  \n"
          ]
        }
      ],
      "source": [
        "df = pd.DataFrame({\n",
        "     'Celula': [ 'A', 'B', 'C', 'D', 'E'],\n",
        "     'TamanoNucleo':[4, 8, 3, 9, 5],\n",
        "     'TamanoCelular':[ 2, 7, 2, 8, 4],\n",
        "     'FormaCelular': [1, 6, 2, 7, 3 ],\n",
        "     'AdhesionMarginal': [3, 9, 2, 8, 6 ],\n",
        "     'TamanoNucleolo':[2, 7, 1, 9, 5 ],\n",
        "     'Tipo': ['B', 'M', 'B', 'M',  np.nan]\n",
        " })\n",
        "print(\"Datos originales (Altura y Peso):\")\n",
        "print(df)"
      ]
    },
    {
      "cell_type": "code",
      "execution_count": null,
      "id": "1aa2e7d5-c3b0-410c-99b9-8bdd77b90a5f",
      "metadata": {
        "id": "1aa2e7d5-c3b0-410c-99b9-8bdd77b90a5f",
        "outputId": "50e2e52b-c766-43f9-cab4-a3c429118444"
      },
      "outputs": [
        {
          "data": {
            "text/plain": [
              "TamanoNucleo        5\n",
              "TamanoCelular       4\n",
              "FormaCelular        3\n",
              "AdhesionMarginal    6\n",
              "TamanoNucleolo      5\n",
              "Name: 4, dtype: object"
            ]
          },
          "execution_count": 3,
          "metadata": {},
          "output_type": "execute_result"
        }
      ],
      "source": [
        "df[df['Celula'] == 'E'].iloc[0] [['TamanoNucleo', 'TamanoCelular', 'FormaCelular', 'AdhesionMarginal', 'TamanoNucleolo']]"
      ]
    },
    {
      "cell_type": "code",
      "execution_count": null,
      "id": "73a3dbbc-3153-4358-b33e-6dd41b24a827",
      "metadata": {
        "id": "73a3dbbc-3153-4358-b33e-6dd41b24a827",
        "outputId": "ac3fcc53-9b97-43db-991a-2a2be8ff8ea3"
      },
      "outputs": [
        {
          "name": "stdout",
          "output_type": "stream",
          "text": [
            "[np.int64(5) np.int64(4) np.int64(3) np.int64(6) np.int64(5)]\n"
          ]
        }
      ],
      "source": [
        "# Aqui en donde se aplica la verdadera Matriz del lcdo Nelson Gonzalez.\n",
        "# muestra_e =\n",
        "celula_e   = df[df['Celula'] == 'E'].iloc[0] [['TamanoNucleo', 'TamanoCelular', 'FormaCelular', 'AdhesionMarginal', 'TamanoNucleolo']].values\n",
        "print(celula_e)"
      ]
    },
    {
      "cell_type": "code",
      "execution_count": null,
      "id": "1794ba1c-afee-4cd1-afa3-8c910259770f",
      "metadata": {
        "id": "1794ba1c-afee-4cd1-afa3-8c910259770f"
      },
      "outputs": [],
      "source": []
    },
    {
      "cell_type": "code",
      "execution_count": null,
      "id": "4825ae5e-0687-4992-9221-5d03fa09491a",
      "metadata": {
        "id": "4825ae5e-0687-4992-9221-5d03fa09491a"
      },
      "outputs": [],
      "source": [
        "distancias = []\n",
        "for indice, fila  in df.iterrows():\n",
        "    # print(\"Fila \", indice  )\n",
        "    # print(\"Celula:\", fila['Celula'])\n",
        "    # print(\"TamanoNucleo:\", fila['TamanoNucleo'])\n",
        "    #print(\"TamanoCelular:\", fila['TamanoCelular'])\n",
        "    # son 5 intecaciones  row : 0 , row 1 hasta row:4\n",
        "    if fila['Celula'] != 'E':\n",
        "     distancia = distance.euclidean (celula_e, fila[['TamanoNucleo', 'TamanoCelular', 'FormaCelular', 'AdhesionMarginal', 'TamanoNucleolo']].values\n",
        "                                    )\n",
        "     distancias.append({\n",
        "         'Cedula':  fila['Celula'],\n",
        "         'Distancia': distancia,\n",
        "         'Tipo': fila['Tipo']\n",
        "     })\n",
        ""
      ]
    },
    {
      "cell_type": "code",
      "execution_count": null,
      "id": "6e765ec7-5795-4842-9e88-4ff41fbc186a",
      "metadata": {
        "id": "6e765ec7-5795-4842-9e88-4ff41fbc186a"
      },
      "outputs": [],
      "source": [
        "distancias"
      ]
    },
    {
      "cell_type": "code",
      "execution_count": null,
      "id": "9b5bf70d-71bd-4891-bee1-b8c1e270be1b",
      "metadata": {
        "id": "9b5bf70d-71bd-4891-bee1-b8c1e270be1b"
      },
      "outputs": [],
      "source": [
        "cercana = min(distancias, key=lambda x: x['Distancia'])\n",
        "print(cercana)"
      ]
    },
    {
      "cell_type": "markdown",
      "source": [
        "# **Caso de Estudio 2: **\n",
        "Recomendación de PelículasUn servicio de streaming quiere implementar un sistema de recomendación basado en las calificaciones que los usuarios dan a películas. Para simplificar, consideramos sólo 5 películas y las calificaciones (escala 1-5) de tres usuarios existentes y un nuevo usuario"
      ],
      "metadata": {
        "id": "TTc3j19cH-gW"
      },
      "id": "TTc3j19cH-gW"
    },
    {
      "cell_type": "markdown",
      "source": [],
      "metadata": {
        "id": "COe5x2KWInrp"
      },
      "id": "COe5x2KWInrp"
    },
    {
      "cell_type": "markdown",
      "source": [],
      "metadata": {
        "id": "1IC8GeeLH6YM"
      },
      "id": "1IC8GeeLH6YM"
    },
    {
      "cell_type": "code",
      "execution_count": null,
      "id": "8e0ab374-e4b5-4858-a6c4-4c273d4e3454",
      "metadata": {
        "id": "8e0ab374-e4b5-4858-a6c4-4c273d4e3454",
        "outputId": "99f5d920-1ee7-4a05-80dd-486f7cd306a9"
      },
      "outputs": [
        {
          "name": "stdout",
          "output_type": "stream",
          "text": [
            "  Usuario  P1  P2   P3  P4  P5\n",
            "0       A   5   4  2.0   1   3\n",
            "1       B   2   1  5.0   4   2\n",
            "2       C   4   5  3.0   2   4\n",
            "3       N   4   5  NaN   2   3\n"
          ]
        }
      ],
      "source": [
        "df_peli = pd.DataFrame({\n",
        "     'Usuario': [ 'A', 'B', 'C', 'N'],\n",
        "     'P1':[5, 2, 4, 4],\n",
        "     'P2':[ 4, 1, 5,  5],\n",
        "     'P3': [ 2, 5, 3, np.nan ],\n",
        "     'P4': [ 1, 4, 2, 2],\n",
        "     'P5':[ 3, 2, 4, 3]\n",
        " })\n",
        "\n",
        "print(df_peli)"
      ]
    },
    {
      "cell_type": "code",
      "execution_count": null,
      "id": "7f915dd7-d654-4fa5-a74a-3a738518ab00",
      "metadata": {
        "id": "7f915dd7-d654-4fa5-a74a-3a738518ab00"
      },
      "outputs": [],
      "source": [
        "Usuario_N = df_peli[df_peli['Usuario'] == 'N'].iloc[0][['P1','P2', 'P4', 'P5']].values\n",
        "distancias_z= [ ]"
      ]
    },
    {
      "cell_type": "code",
      "execution_count": null,
      "id": "1b4f51dd-9b36-4f08-a73d-377dc9646510",
      "metadata": {
        "id": "1b4f51dd-9b36-4f08-a73d-377dc9646510",
        "outputId": "a650d504-9d8a-4150-a586-f17eaf60c458"
      },
      "outputs": [
        {
          "name": "stdout",
          "output_type": "stream",
          "text": [
            "[np.int64(4) np.int64(5) np.int64(2) np.int64(3)]\n"
          ]
        }
      ],
      "source": [
        "print(Usuario_N)"
      ]
    },
    {
      "cell_type": "code",
      "execution_count": null,
      "id": "922832e9-edb8-4f7d-a221-aa5ebd90c4bd",
      "metadata": {
        "id": "922832e9-edb8-4f7d-a221-aa5ebd90c4bd"
      },
      "outputs": [],
      "source": [
        "df_peli"
      ]
    },
    {
      "cell_type": "code",
      "execution_count": null,
      "id": "34aa2483-2198-47f0-8ac9-f32fe5b39696",
      "metadata": {
        "id": "34aa2483-2198-47f0-8ac9-f32fe5b39696"
      },
      "outputs": [],
      "source": [
        "for indice, fila in df_peli.iterrows():\n",
        "  if fila['Usuario'] != 'N':\n",
        "      distancia = distance.euclidean(Usuario_N, fila[['P1', 'P2', 'P4', 'P5']].values )\n",
        "      distancias_z.append({\n",
        "          'Usuario': fila['Usuario'],\n",
        "          'dist01' : distancia\n",
        "      })"
      ]
    },
    {
      "cell_type": "code",
      "execution_count": null,
      "id": "f87b4e98-de67-470e-a2d2-0b9ba19e3cd9",
      "metadata": {
        "id": "f87b4e98-de67-470e-a2d2-0b9ba19e3cd9",
        "outputId": "08576082-9fa9-435a-d6fd-5ebe37d6bee7"
      },
      "outputs": [
        {
          "data": {
            "text/plain": [
              "[{'Usuario': 'A', 'dist01': np.float64(1.7320508075688772)},\n",
              " {'Usuario': 'B', 'dist01': np.float64(5.0)},\n",
              " {'Usuario': 'C', 'dist01': np.float64(1.0)}]"
            ]
          },
          "execution_count": 14,
          "metadata": {},
          "output_type": "execute_result"
        }
      ],
      "source": [
        "distancias_z"
      ]
    },
    {
      "cell_type": "code",
      "execution_count": null,
      "id": "7d0bebf1-2b19-4e98-8969-bf7ed37a7362",
      "metadata": {
        "id": "7d0bebf1-2b19-4e98-8969-bf7ed37a7362",
        "outputId": "b51cf5ff-2d6f-423c-a861-63529d2b5453"
      },
      "outputs": [
        {
          "name": "stdout",
          "output_type": "stream",
          "text": [
            "{'Usuario': 'C', 'dist01': np.float64(1.0)}\n"
          ]
        }
      ],
      "source": [
        "punto_cercano = min (distancias_z, key=lambda x: x['dist01'])\n",
        "print(punto_cercano)"
      ]
    },
    {
      "cell_type": "code",
      "execution_count": null,
      "id": "95cf019b-6554-477c-8fa5-f5a68506b4c5",
      "metadata": {
        "id": "95cf019b-6554-477c-8fa5-f5a68506b4c5"
      },
      "outputs": [],
      "source": [
        "## repeusta : El usuario N  coo se parece al usuario C: calificara la Pelicula 3:  con 3 puntos"
      ]
    },
    {
      "cell_type": "markdown",
      "source": [
        "# **Taller 3  Distancia Manhattan **\n",
        "Caso de Estudio 2.1: Planificación de Rutas de Entrega Urbanas\n",
        "Una empresa de mensajería tiene que entregar paquetes en una ciudad con estructura de cuadrícula. La sede central de la empresa está ubicada en las\n",
        "coordenadas (0,0) y debe entregar paquetes en varias ubicaciones. Debido a la estructura de calles de la ciudad,\n",
        "los vehículos solo pueden moverse en direcciones horizontales y verticales."
      ],
      "metadata": {
        "id": "9D1KLVSZId4e"
      },
      "id": "9D1KLVSZId4e"
    },
    {
      "cell_type": "code",
      "execution_count": null,
      "id": "30acfc9c-0c4b-4dce-ab3a-c43019b0660d",
      "metadata": {
        "id": "30acfc9c-0c4b-4dce-ab3a-c43019b0660d"
      },
      "outputs": [],
      "source": [
        "import pandas as pd\n",
        "import numpy as np\n",
        "import pandas as pd\n",
        "from scipy.spatial.distance import cityblock\n",
        "#Crear DataFrame con 10 puntos (Altura en cm, Peso en kg)\n",
        "clientes = pd.DataFrame({\n",
        "    'Cliente': ['A', 'B', 'C', 'D', 'E'],\n",
        "    'X': [5, -2, 6, -3, 4],\n",
        "    'Y': [3, 4, -1, -5, 2]\n",
        "})"
      ]
    },
    {
      "cell_type": "code",
      "execution_count": null,
      "id": "877a8f68-7fd4-4aac-8114-84225d224c3c",
      "metadata": {
        "id": "877a8f68-7fd4-4aac-8114-84225d224c3c"
      },
      "outputs": [],
      "source": [
        "distancias_bl = [ ]\n",
        "for index, fila in clientes.iterrows():\n",
        "       distancia =  cityblock([0,0 ],  fila [['X', 'Y']].values)\n",
        "       distancias_bl.append (\n",
        "           ## 'Cliente': fila['Cliente'],\n",
        "           distancia\n",
        "       )"
      ]
    },
    {
      "cell_type": "code",
      "execution_count": null,
      "id": "d7e107e8-8899-4f2d-a2f6-146f8553e045",
      "metadata": {
        "id": "d7e107e8-8899-4f2d-a2f6-146f8553e045"
      },
      "outputs": [],
      "source": [
        "clientes['distancia' ] =  distancias_bl"
      ]
    },
    {
      "cell_type": "code",
      "execution_count": null,
      "id": "f664e748-ce41-4e84-92d5-69748cbf342b",
      "metadata": {
        "id": "f664e748-ce41-4e84-92d5-69748cbf342b"
      },
      "outputs": [],
      "source": [
        "distancias_bl = [ ]\n",
        "for index, fila in clientes.iterrows():\n",
        "       distancia =  cityblock([0,0 ],  [fila['X'], fila['Y'] ])\n",
        "       distancias_bl.append (\n",
        "           distancia\n",
        "       )\n"
      ]
    },
    {
      "cell_type": "code",
      "execution_count": null,
      "id": "26baf28f-7535-4cd6-9466-ebe47ddfdbb5",
      "metadata": {
        "id": "26baf28f-7535-4cd6-9466-ebe47ddfdbb5",
        "outputId": "f1ed2fd5-d0b7-45cf-fc06-4703f607e897"
      },
      "outputs": [
        {
          "data": {
            "text/plain": [
              "[8, 6, 7, 8, 6]"
            ]
          },
          "execution_count": 23,
          "metadata": {},
          "output_type": "execute_result"
        }
      ],
      "source": [
        " distancias_bl"
      ]
    },
    {
      "cell_type": "code",
      "execution_count": null,
      "id": "624b6ba6-67bd-448a-81a0-7bf83a7f9191",
      "metadata": {
        "id": "624b6ba6-67bd-448a-81a0-7bf83a7f9191"
      },
      "outputs": [],
      "source": [
        "clientes['distancia' ] =  distancias_bl"
      ]
    },
    {
      "cell_type": "code",
      "execution_count": null,
      "id": "605d81ba-1998-4cb1-9b27-2ec303dac177",
      "metadata": {
        "id": "605d81ba-1998-4cb1-9b27-2ec303dac177",
        "outputId": "5b3dd47f-63c8-4bfd-9009-ad2c50380306"
      },
      "outputs": [
        {
          "data": {
            "text/html": [
              "<div>\n",
              "<style scoped>\n",
              "    .dataframe tbody tr th:only-of-type {\n",
              "        vertical-align: middle;\n",
              "    }\n",
              "\n",
              "    .dataframe tbody tr th {\n",
              "        vertical-align: top;\n",
              "    }\n",
              "\n",
              "    .dataframe thead th {\n",
              "        text-align: right;\n",
              "    }\n",
              "</style>\n",
              "<table border=\"1\" class=\"dataframe\">\n",
              "  <thead>\n",
              "    <tr style=\"text-align: right;\">\n",
              "      <th></th>\n",
              "      <th>Cliente</th>\n",
              "      <th>X</th>\n",
              "      <th>Y</th>\n",
              "      <th>distancia</th>\n",
              "    </tr>\n",
              "  </thead>\n",
              "  <tbody>\n",
              "    <tr>\n",
              "      <th>0</th>\n",
              "      <td>A</td>\n",
              "      <td>5</td>\n",
              "      <td>3</td>\n",
              "      <td>8</td>\n",
              "    </tr>\n",
              "    <tr>\n",
              "      <th>1</th>\n",
              "      <td>B</td>\n",
              "      <td>-2</td>\n",
              "      <td>4</td>\n",
              "      <td>6</td>\n",
              "    </tr>\n",
              "    <tr>\n",
              "      <th>2</th>\n",
              "      <td>C</td>\n",
              "      <td>6</td>\n",
              "      <td>-1</td>\n",
              "      <td>7</td>\n",
              "    </tr>\n",
              "    <tr>\n",
              "      <th>3</th>\n",
              "      <td>D</td>\n",
              "      <td>-3</td>\n",
              "      <td>-5</td>\n",
              "      <td>8</td>\n",
              "    </tr>\n",
              "    <tr>\n",
              "      <th>4</th>\n",
              "      <td>E</td>\n",
              "      <td>4</td>\n",
              "      <td>2</td>\n",
              "      <td>6</td>\n",
              "    </tr>\n",
              "  </tbody>\n",
              "</table>\n",
              "</div>"
            ],
            "text/plain": [
              "  Cliente  X  Y  distancia\n",
              "0       A  5  3          8\n",
              "1       B -2  4          6\n",
              "2       C  6 -1          7\n",
              "3       D -3 -5          8\n",
              "4       E  4  2          6"
            ]
          },
          "execution_count": 35,
          "metadata": {},
          "output_type": "execute_result"
        }
      ],
      "source": [
        "clientes"
      ]
    },
    {
      "cell_type": "code",
      "execution_count": null,
      "id": "024e0fff-0357-4306-a448-c1b66613e1af",
      "metadata": {
        "id": "024e0fff-0357-4306-a448-c1b66613e1af"
      },
      "outputs": [],
      "source": [
        "rutta_optima =clientes.sort_values('distancia') ['Cliente'].tolist()"
      ]
    },
    {
      "cell_type": "code",
      "execution_count": null,
      "id": "f8e82ba6-f8ac-432b-b6ef-bff7007dfb0e",
      "metadata": {
        "id": "f8e82ba6-f8ac-432b-b6ef-bff7007dfb0e",
        "outputId": "5b8bf09c-6944-457d-a8e2-6a8774376b70"
      },
      "outputs": [
        {
          "data": {
            "text/plain": [
              "['B', 'E', 'C', 'A', 'D']"
            ]
          },
          "execution_count": 47,
          "metadata": {},
          "output_type": "execute_result"
        }
      ],
      "source": [
        "ruta_optima"
      ]
    },
    {
      "cell_type": "code",
      "execution_count": null,
      "id": "f8abc731-d229-4a51-b69b-75f8e9f173e7",
      "metadata": {
        "id": "f8abc731-d229-4a51-b69b-75f8e9f173e7"
      },
      "outputs": [],
      "source": [
        "distancia_total = clientes['distancia'].sum() * 2"
      ]
    },
    {
      "cell_type": "code",
      "execution_count": null,
      "id": "a6bb77a0-9a80-4a0b-9815-1a20681e9ce8",
      "metadata": {
        "id": "a6bb77a0-9a80-4a0b-9815-1a20681e9ce8",
        "outputId": "a3b9ed9e-340e-4b02-b265-d2e8c6bfe2f0"
      },
      "outputs": [
        {
          "name": "stdout",
          "output_type": "stream",
          "text": [
            "70\n"
          ]
        }
      ],
      "source": [
        "## Ditancia Total:\n",
        "print(f\"{distancia_total}\")"
      ]
    },
    {
      "cell_type": "markdown",
      "id": "3426e9aa-54b3-4cd7-8a8e-0e556c203b66",
      "metadata": {
        "id": "3426e9aa-54b3-4cd7-8a8e-0e556c203b66"
      },
      "source": [
        "# **Caso de Estudio 4: Análisis de Anomalías en Sensores**\n",
        "Una fábrica utiliza múltiples sensores para monitorear el funcionamiento de una máquina industrial.\n",
        "Se sabe que cuando la máquina funciona correctamente, los valores de los sensores se mantienen dentro de ciertos rangos.\n",
        "Se han registrado los siguientes valores en cinco momentos diferentes:\n",
        "Tarea:\n",
        "\n",
        "Utiliza la distancia Manhattan para determinar cuál de los registros se desvía más del funcionamiento normal de la máquina.\n",
        "Establece un umbral de distancia para detectar anomalías y clasifica cada registro como \"normal\" o \"anomalía\n",
        "Utilizar un umbral de 20 para categorizar como normal o anomalía ( <= 20 normal; >20 anomalía)\".\n"
      ]
    },
    {
      "cell_type": "code",
      "execution_count": null,
      "id": "caefc68d-951a-4ce2-9d09-35e4024ff09c",
      "metadata": {
        "id": "caefc68d-951a-4ce2-9d09-35e4024ff09c"
      },
      "outputs": [],
      "source": [
        "sensor = sensor[sensor['Tiempo'] == 'N'].iloc[0][[ 'S1', 'S2', 'S3', 'S4']].values"
      ]
    },
    {
      "cell_type": "code",
      "execution_count": null,
      "id": "5d3eecd7-cac8-4729-97d4-84b298ef6d8e",
      "metadata": {
        "id": "5d3eecd7-cac8-4729-97d4-84b298ef6d8e"
      },
      "outputs": [],
      "source": [
        "import pandas as pd\n",
        "import numpy as np\n",
        "import pandas as pd\n",
        "from scipy.spatial.distance import cityblock\n",
        "#Crear DataFrame con 10 puntos (Altura en cm, Peso en kg)\n",
        "sensor = pd.DataFrame({\n",
        "    'Tiempo': ['N', 'R1', 'R2', 'R3', 'R4'],\n",
        "    'S1': [100, 104, 132 ,98, 103],\n",
        "    'S2': [50, 53, 68, 52, 49],\n",
        "    'S3': [25, 22, 12, 24, 26],\n",
        "    'S4': [75, 78, 84,  73, 77]\n",
        "})"
      ]
    },
    {
      "cell_type": "code",
      "execution_count": null,
      "id": "b4890d0b-a53d-4e19-a3fb-61bf7429b5ef",
      "metadata": {
        "id": "b4890d0b-a53d-4e19-a3fb-61bf7429b5ef",
        "outputId": "01e6655e-6788-40c4-8bf3-69b916d9feaf"
      },
      "outputs": [
        {
          "data": {
            "text/html": [
              "<div>\n",
              "<style scoped>\n",
              "    .dataframe tbody tr th:only-of-type {\n",
              "        vertical-align: middle;\n",
              "    }\n",
              "\n",
              "    .dataframe tbody tr th {\n",
              "        vertical-align: top;\n",
              "    }\n",
              "\n",
              "    .dataframe thead th {\n",
              "        text-align: right;\n",
              "    }\n",
              "</style>\n",
              "<table border=\"1\" class=\"dataframe\">\n",
              "  <thead>\n",
              "    <tr style=\"text-align: right;\">\n",
              "      <th></th>\n",
              "      <th>Tiempo</th>\n",
              "      <th>S1</th>\n",
              "      <th>S2</th>\n",
              "      <th>S3</th>\n",
              "      <th>S4</th>\n",
              "    </tr>\n",
              "  </thead>\n",
              "  <tbody>\n",
              "    <tr>\n",
              "      <th>0</th>\n",
              "      <td>N</td>\n",
              "      <td>100</td>\n",
              "      <td>50</td>\n",
              "      <td>25</td>\n",
              "      <td>75</td>\n",
              "    </tr>\n",
              "    <tr>\n",
              "      <th>1</th>\n",
              "      <td>R1</td>\n",
              "      <td>104</td>\n",
              "      <td>53</td>\n",
              "      <td>22</td>\n",
              "      <td>78</td>\n",
              "    </tr>\n",
              "    <tr>\n",
              "      <th>2</th>\n",
              "      <td>R2</td>\n",
              "      <td>132</td>\n",
              "      <td>68</td>\n",
              "      <td>12</td>\n",
              "      <td>84</td>\n",
              "    </tr>\n",
              "    <tr>\n",
              "      <th>3</th>\n",
              "      <td>R3</td>\n",
              "      <td>98</td>\n",
              "      <td>52</td>\n",
              "      <td>24</td>\n",
              "      <td>73</td>\n",
              "    </tr>\n",
              "    <tr>\n",
              "      <th>4</th>\n",
              "      <td>R4</td>\n",
              "      <td>103</td>\n",
              "      <td>49</td>\n",
              "      <td>26</td>\n",
              "      <td>77</td>\n",
              "    </tr>\n",
              "  </tbody>\n",
              "</table>\n",
              "</div>"
            ],
            "text/plain": [
              "  Tiempo   S1  S2  S3  S4\n",
              "0      N  100  50  25  75\n",
              "1     R1  104  53  22  78\n",
              "2     R2  132  68  12  84\n",
              "3     R3   98  52  24  73\n",
              "4     R4  103  49  26  77"
            ]
          },
          "execution_count": 19,
          "metadata": {},
          "output_type": "execute_result"
        }
      ],
      "source": [
        "sensor"
      ]
    },
    {
      "cell_type": "code",
      "execution_count": null,
      "id": "0bdf7635-9baf-498b-987a-4c24017fd0c7",
      "metadata": {
        "id": "0bdf7635-9baf-498b-987a-4c24017fd0c7",
        "outputId": "1d0619fc-8fe7-48df-b943-e9bbea5572af"
      },
      "outputs": [
        {
          "data": {
            "text/plain": [
              "array([100, 50, 25, 75], dtype=object)"
            ]
          },
          "execution_count": 176,
          "metadata": {},
          "output_type": "execute_result"
        }
      ],
      "source": [
        "Medicion_N"
      ]
    },
    {
      "cell_type": "code",
      "execution_count": null,
      "id": "00f25b0f-d8a9-48f2-a21d-770dec5ebb1f",
      "metadata": {
        "id": "00f25b0f-d8a9-48f2-a21d-770dec5ebb1f"
      },
      "outputs": [],
      "source": [
        "distancias = [ ]\n",
        "for index, fila in sensor.iterrows():\n",
        "   if fila['Tiempo'] != 'N':\n",
        "       distancia = cityblock( Medicion_N,  fila [['S1', 'S2', 'S3', 'S4']].values)\n",
        "       distancias.append({\n",
        "            'Registro': fila['Tiempo' ],\n",
        "            'Dist01': distancia\n",
        "        })"
      ]
    },
    {
      "cell_type": "code",
      "execution_count": null,
      "id": "c0c64a7c-d9be-4e4b-8d52-465ad2eb50a4",
      "metadata": {
        "id": "c0c64a7c-d9be-4e4b-8d52-465ad2eb50a4",
        "outputId": "4dcf0a49-0476-401a-f33d-70ff73fc34f2"
      },
      "outputs": [
        {
          "data": {
            "text/plain": [
              "[{'Registro': 'R1', 'Dist01': 13},\n",
              " {'Registro': 'R2', 'Dist01': 72},\n",
              " {'Registro': 'R3', 'Dist01': 7},\n",
              " {'Registro': 'R4', 'Dist01': 7}]"
            ]
          },
          "execution_count": 112,
          "metadata": {},
          "output_type": "execute_result"
        }
      ],
      "source": [
        "distancias"
      ]
    },
    {
      "cell_type": "code",
      "execution_count": null,
      "id": "33aeba53-33bf-4de2-8d09-2a19e7595b73",
      "metadata": {
        "id": "33aeba53-33bf-4de2-8d09-2a19e7595b73",
        "outputId": "ea294e64-4a86-4f0d-b5e6-5019a3cb7945"
      },
      "outputs": [
        {
          "data": {
            "text/plain": [
              "['Normal', 'Anamolia', 'Normal', 'Normal']"
            ]
          },
          "execution_count": 116,
          "metadata": {},
          "output_type": "execute_result"
        }
      ],
      "source": [
        "###  R2:  tiene problema de Anomalias.\n",
        "umbral = 20\n",
        "resultados = [  'Anamolia' if d['Dist01'] > 20 else 'Normal' for d in distancias]\n",
        "resultados"
      ]
    },
    {
      "cell_type": "code",
      "execution_count": null,
      "id": "58d64e6e-9133-47b9-887d-eb7432af2247",
      "metadata": {
        "id": "58d64e6e-9133-47b9-887d-eb7432af2247",
        "outputId": "bd2d34ef-65fb-45a0-824f-71482ef1f10a"
      },
      "outputs": [
        {
          "name": "stdout",
          "output_type": "stream",
          "text": [
            "El mas lejano {'Registro': 'R2', 'Dist01': 72}\n"
          ]
        }
      ],
      "source": [
        "punto_lejano = max(distancias, key= lambda x: x['Dist01'] )\n",
        "print(f\"El mas lejano {punto_lejano}\")"
      ]
    },
    {
      "cell_type": "markdown",
      "source": [
        "# Taller 5 .-Distancia Coseno ( 20 minutos )**\n",
        " Caso de Estudio 3.1: Análisis de Similitud de Documentos\n",
        "Un sistema de procesamiento de lenguaje natural necesita determinar la similitud entre documentos basándose en la frecuencia de palabras clave.\n",
        "Se han analizado 4 documentos y se ha contado la frecuencia de 5 palabras clave:"
      ],
      "metadata": {
        "id": "LTg-Ac9vJUNT"
      },
      "id": "LTg-Ac9vJUNT"
    },
    {
      "cell_type": "markdown",
      "source": [],
      "metadata": {
        "id": "fYZKzdQfJMzU"
      },
      "id": "fYZKzdQfJMzU"
    },
    {
      "cell_type": "code",
      "execution_count": null,
      "id": "42951fbe-ba32-49b2-a688-dd98765bdf57",
      "metadata": {
        "id": "42951fbe-ba32-49b2-a688-dd98765bdf57"
      },
      "outputs": [],
      "source": [
        "import pandas as pd\n",
        "import numpy as np\n",
        "from sklearn.metrics.pairwise import cosine_similarity\n",
        "from sklearn.metrics.pairwise import cosine_similarity"
      ]
    },
    {
      "cell_type": "code",
      "execution_count": null,
      "id": "7634e1ee-40d1-4d02-a45b-19799c77e188",
      "metadata": {
        "id": "7634e1ee-40d1-4d02-a45b-19799c77e188"
      },
      "outputs": [],
      "source": [
        "docu = pd.DataFrame({\n",
        "    'Doc': ['A', 'B', 'C', 'D' ],\n",
        "    'Int': [10, 8, 2, 5 ],\n",
        "    'Art': [15, 12, 3, 7 ],\n",
        "    'Dat': [ 8, 7, 15, 6],\n",
        "    'Apr': [12, 10, 4, 18 ],\n",
        "    'Alg': [5,6, 12, 3 ]\n",
        "})"
      ]
    },
    {
      "cell_type": "code",
      "execution_count": null,
      "id": "6021703d-28a9-451e-8cb7-d257e57bc813",
      "metadata": {
        "id": "6021703d-28a9-451e-8cb7-d257e57bc813",
        "outputId": "2b72b6c8-0cc7-4e40-8082-f2cec2a0f505"
      },
      "outputs": [
        {
          "data": {
            "text/html": [
              "<div>\n",
              "<style scoped>\n",
              "    .dataframe tbody tr th:only-of-type {\n",
              "        vertical-align: middle;\n",
              "    }\n",
              "\n",
              "    .dataframe tbody tr th {\n",
              "        vertical-align: top;\n",
              "    }\n",
              "\n",
              "    .dataframe thead th {\n",
              "        text-align: right;\n",
              "    }\n",
              "</style>\n",
              "<table border=\"1\" class=\"dataframe\">\n",
              "  <thead>\n",
              "    <tr style=\"text-align: right;\">\n",
              "      <th></th>\n",
              "      <th>Doc</th>\n",
              "      <th>Int</th>\n",
              "      <th>Art</th>\n",
              "      <th>Dat</th>\n",
              "      <th>Apr</th>\n",
              "      <th>Alg</th>\n",
              "    </tr>\n",
              "  </thead>\n",
              "  <tbody>\n",
              "    <tr>\n",
              "      <th>0</th>\n",
              "      <td>A</td>\n",
              "      <td>10</td>\n",
              "      <td>15</td>\n",
              "      <td>8</td>\n",
              "      <td>12</td>\n",
              "      <td>5</td>\n",
              "    </tr>\n",
              "    <tr>\n",
              "      <th>1</th>\n",
              "      <td>B</td>\n",
              "      <td>8</td>\n",
              "      <td>12</td>\n",
              "      <td>7</td>\n",
              "      <td>10</td>\n",
              "      <td>6</td>\n",
              "    </tr>\n",
              "    <tr>\n",
              "      <th>2</th>\n",
              "      <td>C</td>\n",
              "      <td>2</td>\n",
              "      <td>3</td>\n",
              "      <td>15</td>\n",
              "      <td>4</td>\n",
              "      <td>12</td>\n",
              "    </tr>\n",
              "    <tr>\n",
              "      <th>3</th>\n",
              "      <td>D</td>\n",
              "      <td>5</td>\n",
              "      <td>7</td>\n",
              "      <td>6</td>\n",
              "      <td>18</td>\n",
              "      <td>3</td>\n",
              "    </tr>\n",
              "  </tbody>\n",
              "</table>\n",
              "</div>"
            ],
            "text/plain": [
              "  Doc  Int  Art  Dat  Apr  Alg\n",
              "0   A   10   15    8   12    5\n",
              "1   B    8   12    7   10    6\n",
              "2   C    2    3   15    4   12\n",
              "3   D    5    7    6   18    3"
            ]
          },
          "execution_count": 210,
          "metadata": {},
          "output_type": "execute_result"
        }
      ],
      "source": [
        "docu"
      ]
    },
    {
      "cell_type": "code",
      "execution_count": null,
      "id": "60d7876c-ee34-4425-85ed-bf38d5f0fb9f",
      "metadata": {
        "id": "60d7876c-ee34-4425-85ed-bf38d5f0fb9f"
      },
      "outputs": [],
      "source": [
        "## arYAY\n",
        "Doc_A = docu [docu['Doc'] == 'A'].iloc[0] [['Int', 'Art', 'Dat', 'Apr', 'Alg']].values"
      ]
    },
    {
      "cell_type": "code",
      "execution_count": null,
      "id": "57896aa8-1635-4fb9-a2a9-ba71cf8bfb70",
      "metadata": {
        "id": "57896aa8-1635-4fb9-a2a9-ba71cf8bfb70"
      },
      "outputs": [],
      "source": []
    },
    {
      "cell_type": "code",
      "execution_count": null,
      "id": "2f70d14f-f019-4fd9-a1f4-b15d2f0178c2",
      "metadata": {
        "id": "2f70d14f-f019-4fd9-a1f4-b15d2f0178c2",
        "outputId": "13e8c686-a39d-4087-adc1-f8907e469f74"
      },
      "outputs": [
        {
          "data": {
            "text/plain": [
              "array([10, 15, 8, 12, 5], dtype=object)"
            ]
          },
          "execution_count": 214,
          "metadata": {},
          "output_type": "execute_result"
        }
      ],
      "source": [
        "Doc_A"
      ]
    },
    {
      "cell_type": "code",
      "execution_count": null,
      "id": "e6166d9f-8dc4-46b7-8c60-fc9b97d15a92",
      "metadata": {
        "id": "e6166d9f-8dc4-46b7-8c60-fc9b97d15a92"
      },
      "outputs": [],
      "source": [
        "# Calcular similitud del coseno sobre la Matriz  documentos y obtengo matriz de simulitude\n",
        "distancias = [ ]\n",
        "for index, fila in docu.iterrows():\n",
        "     if fila['Doc'] != 'A' :\n",
        "        vector = fila[[ 'Int', 'Art','Dat', 'Apr', 'Alg']].values\n",
        "        similitud_coseno = cosine_similarity([Doc_A ], [ vector]) [0][0]\n",
        "        distancias.append({\n",
        "             'Documento': fila['Doc'] ,\n",
        "             'Similitud': similitud_coseno\n",
        "         })\n",
        "\n",
        ""
      ]
    },
    {
      "cell_type": "code",
      "execution_count": null,
      "id": "afb3a5be-a054-4a9c-8226-861685cadbf0",
      "metadata": {
        "id": "afb3a5be-a054-4a9c-8226-861685cadbf0",
        "outputId": "1233ca06-9ead-4174-9205-eae8624325aa"
      },
      "outputs": [
        {
          "data": {
            "text/plain": [
              "[{'Documento': 'B', 'Similitud': 0.995113325832935},\n",
              " {'Documento': 'C', 'Similitud': 0.6217402519583585},\n",
              " {'Documento': 'D', 'Similitud': 0.8729126092433148}]"
            ]
          },
          "execution_count": 230,
          "metadata": {},
          "output_type": "execute_result"
        }
      ],
      "source": [
        "##### Calcula la similitud coseno entre el Documento A y cada uno de los otros documentos\n",
        "distancias"
      ]
    },
    {
      "cell_type": "code",
      "execution_count": null,
      "id": "21669993-df0a-43b4-8400-4ccfc776a4f0",
      "metadata": {
        "id": "21669993-df0a-43b4-8400-4ccfc776a4f0",
        "outputId": "6f2a271a-bf43-48c7-83c6-7865fbb2e214"
      },
      "outputs": [
        {
          "data": {
            "text/plain": [
              "0.8729126092433148"
            ]
          },
          "execution_count": 232,
          "metadata": {},
          "output_type": "execute_result"
        }
      ],
      "source": [
        "similitud_coseno"
      ]
    },
    {
      "cell_type": "code",
      "execution_count": null,
      "id": "3198e3d1-dd30-483d-b305-9070b031ec23",
      "metadata": {
        "id": "3198e3d1-dd30-483d-b305-9070b031ec23",
        "outputId": "f2ad609e-007f-4298-a7ad-abce1c860207"
      },
      "outputs": [
        {
          "name": "stdout",
          "output_type": "stream",
          "text": [
            "Más similar a A: B\n"
          ]
        }
      ],
      "source": [
        "# Documento más similar\n",
        "mas_similar = max(distancias, key=lambda x: x['Similitud'])\n",
        "mas_similar['Documento']\n",
        "print(\"Más similar a A:\", mas_similar['Documento'])"
      ]
    },
    {
      "cell_type": "code",
      "execution_count": null,
      "id": "a14dcb51-02f2-4bf2-80f4-78131f9c5ff8",
      "metadata": {
        "id": "a14dcb51-02f2-4bf2-80f4-78131f9c5ff8"
      },
      "outputs": [],
      "source": [
        "##Parecido entre ellos  atentit)\n",
        "similitud_coseno = cosine_similarity(docu[['Int', 'Art', 'Dat', 'Apr', 'Alg']].values)"
      ]
    },
    {
      "cell_type": "code",
      "execution_count": null,
      "id": "03211b5e-9f42-423b-843c-f72ab7b6e8c6",
      "metadata": {
        "id": "03211b5e-9f42-423b-843c-f72ab7b6e8c6"
      },
      "outputs": [],
      "source": [
        "similitud_coseno_df = pd.DataFrame(similitud_coseno, columns=docu['Doc'], index=docu['Doc']).round(4)"
      ]
    },
    {
      "cell_type": "code",
      "execution_count": null,
      "id": "56c64292-dfcc-4de4-b4ca-23be03b458fe",
      "metadata": {
        "id": "56c64292-dfcc-4de4-b4ca-23be03b458fe",
        "outputId": "fab66f7b-1ed0-4e30-967d-bdf4b1bf3c9e"
      },
      "outputs": [
        {
          "data": {
            "text/html": [
              "<div>\n",
              "<style scoped>\n",
              "    .dataframe tbody tr th:only-of-type {\n",
              "        vertical-align: middle;\n",
              "    }\n",
              "\n",
              "    .dataframe tbody tr th {\n",
              "        vertical-align: top;\n",
              "    }\n",
              "\n",
              "    .dataframe thead th {\n",
              "        text-align: right;\n",
              "    }\n",
              "</style>\n",
              "<table border=\"1\" class=\"dataframe\">\n",
              "  <thead>\n",
              "    <tr style=\"text-align: right;\">\n",
              "      <th>Doc</th>\n",
              "      <th>A</th>\n",
              "      <th>B</th>\n",
              "      <th>C</th>\n",
              "      <th>D</th>\n",
              "    </tr>\n",
              "    <tr>\n",
              "      <th>Doc</th>\n",
              "      <th></th>\n",
              "      <th></th>\n",
              "      <th></th>\n",
              "      <th></th>\n",
              "    </tr>\n",
              "  </thead>\n",
              "  <tbody>\n",
              "    <tr>\n",
              "      <th>A</th>\n",
              "      <td>1.0000</td>\n",
              "      <td>0.9951</td>\n",
              "      <td>0.6217</td>\n",
              "      <td>0.8729</td>\n",
              "    </tr>\n",
              "    <tr>\n",
              "      <th>B</th>\n",
              "      <td>0.9951</td>\n",
              "      <td>1.0000</td>\n",
              "      <td>0.6802</td>\n",
              "      <td>0.8724</td>\n",
              "    </tr>\n",
              "    <tr>\n",
              "      <th>C</th>\n",
              "      <td>0.6217</td>\n",
              "      <td>0.6802</td>\n",
              "      <td>1.0000</td>\n",
              "      <td>0.5454</td>\n",
              "    </tr>\n",
              "    <tr>\n",
              "      <th>D</th>\n",
              "      <td>0.8729</td>\n",
              "      <td>0.8724</td>\n",
              "      <td>0.5454</td>\n",
              "      <td>1.0000</td>\n",
              "    </tr>\n",
              "  </tbody>\n",
              "</table>\n",
              "</div>"
            ],
            "text/plain": [
              "Doc       A       B       C       D\n",
              "Doc                                \n",
              "A    1.0000  0.9951  0.6217  0.8729\n",
              "B    0.9951  1.0000  0.6802  0.8724\n",
              "C    0.6217  0.6802  1.0000  0.5454\n",
              "D    0.8729  0.8724  0.5454  1.0000"
            ]
          },
          "execution_count": 260,
          "metadata": {},
          "output_type": "execute_result"
        }
      ],
      "source": [
        "similitud_coseno_df"
      ]
    },
    {
      "cell_type": "markdown",
      "source": [
        "## **Taller 6 .Recomendación de Productos basada en Comportamiento de Compra **bold text**\n",
        "Una tienda en línea analiza las compras de sus clientes en diferentes categorías de productos para hacer recomendaciones.\n",
        "Cada cliente está representado por un vector que indica cuánto ha gastado en cada categoría:"
      ],
      "metadata": {
        "id": "9m3LZzYEJi8z"
      },
      "id": "9m3LZzYEJi8z"
    },
    {
      "cell_type": "markdown",
      "source": [],
      "metadata": {
        "id": "zoXZwP8fJiMo"
      },
      "id": "zoXZwP8fJiMo"
    },
    {
      "cell_type": "markdown",
      "source": [],
      "metadata": {
        "id": "c_KnA0gtJeH0"
      },
      "id": "c_KnA0gtJeH0"
    },
    {
      "cell_type": "code",
      "execution_count": null,
      "id": "521a1d61-a85b-4245-bf0d-e70870dcd4a2",
      "metadata": {
        "id": "521a1d61-a85b-4245-bf0d-e70870dcd4a2"
      },
      "outputs": [],
      "source": [
        "import pandas as pd\n",
        "import numpy as np\n",
        "from sklearn.metrics.pairwise import cosine_similarity\n",
        "from sklearn.metrics.pairwise import cosine_similarity"
      ]
    },
    {
      "cell_type": "code",
      "execution_count": null,
      "id": "bf24c146-3f69-46ad-8e9a-91493d2510cb",
      "metadata": {
        "id": "bf24c146-3f69-46ad-8e9a-91493d2510cb"
      },
      "outputs": [],
      "source": [
        "clientes = pd.DataFrame({\n",
        "    'Cli': ['1', '2', '3', 'n' ],\n",
        "    'Ele': [1200, 800,  500, 900 ],\n",
        "    'Rop': [300, 1500,  200, 250 ],\n",
        "    'Dep': [150, 600, 100, np.nan],  # Ignorar\n",
        "    'Lib': [250, 100, 400, 300 ]\n",
        "})"
      ]
    },
    {
      "cell_type": "code",
      "execution_count": null,
      "id": "205fecea-b112-43b3-b882-5a3b37c9e669",
      "metadata": {
        "id": "205fecea-b112-43b3-b882-5a3b37c9e669",
        "outputId": "ec12e9c1-a945-4bd9-c893-e748bd4db365"
      },
      "outputs": [
        {
          "data": {
            "text/html": [
              "<div>\n",
              "<style scoped>\n",
              "    .dataframe tbody tr th:only-of-type {\n",
              "        vertical-align: middle;\n",
              "    }\n",
              "\n",
              "    .dataframe tbody tr th {\n",
              "        vertical-align: top;\n",
              "    }\n",
              "\n",
              "    .dataframe thead th {\n",
              "        text-align: right;\n",
              "    }\n",
              "</style>\n",
              "<table border=\"1\" class=\"dataframe\">\n",
              "  <thead>\n",
              "    <tr style=\"text-align: right;\">\n",
              "      <th></th>\n",
              "      <th>Cli</th>\n",
              "      <th>Ele</th>\n",
              "      <th>Rop</th>\n",
              "      <th>Dep</th>\n",
              "      <th>Lib</th>\n",
              "    </tr>\n",
              "  </thead>\n",
              "  <tbody>\n",
              "    <tr>\n",
              "      <th>0</th>\n",
              "      <td>1</td>\n",
              "      <td>1200</td>\n",
              "      <td>300</td>\n",
              "      <td>150.0</td>\n",
              "      <td>250</td>\n",
              "    </tr>\n",
              "    <tr>\n",
              "      <th>1</th>\n",
              "      <td>2</td>\n",
              "      <td>800</td>\n",
              "      <td>1500</td>\n",
              "      <td>600.0</td>\n",
              "      <td>100</td>\n",
              "    </tr>\n",
              "    <tr>\n",
              "      <th>2</th>\n",
              "      <td>3</td>\n",
              "      <td>500</td>\n",
              "      <td>200</td>\n",
              "      <td>100.0</td>\n",
              "      <td>400</td>\n",
              "    </tr>\n",
              "    <tr>\n",
              "      <th>3</th>\n",
              "      <td>n</td>\n",
              "      <td>900</td>\n",
              "      <td>250</td>\n",
              "      <td>NaN</td>\n",
              "      <td>300</td>\n",
              "    </tr>\n",
              "  </tbody>\n",
              "</table>\n",
              "</div>"
            ],
            "text/plain": [
              "  Cli   Ele   Rop    Dep  Lib\n",
              "0   1  1200   300  150.0  250\n",
              "1   2   800  1500  600.0  100\n",
              "2   3   500   200  100.0  400\n",
              "3   n   900   250    NaN  300"
            ]
          },
          "execution_count": 304,
          "metadata": {},
          "output_type": "execute_result"
        }
      ],
      "source": [
        "clientes"
      ]
    },
    {
      "cell_type": "code",
      "execution_count": null,
      "id": "4feb0a8e-976f-4c39-b8a4-ddb305f89392",
      "metadata": {
        "id": "4feb0a8e-976f-4c39-b8a4-ddb305f89392"
      },
      "outputs": [],
      "source": [
        "Cliente_nuevo = clientes[ clientes['Cli'] == 'n'].iloc[0][['Ele','Rop', 'Lib']].values"
      ]
    },
    {
      "cell_type": "code",
      "execution_count": null,
      "id": "4bb723be-ed9a-443b-b353-43edbd8837a3",
      "metadata": {
        "id": "4bb723be-ed9a-443b-b353-43edbd8837a3"
      },
      "outputs": [],
      "source": [
        "distancias = [ ]\n",
        "for index, fila in clientes.iterrows():\n",
        "     if fila['Cli'] != 'n':\n",
        "         similitud_coseno =cosine_similarity([Cliente_nuevo ], [fila[['Ele','Rop', 'Lib']]]) [0][0]\n",
        "         distancias.append({\n",
        "             'Cliente': fila['Cli'] ,\n",
        "             'Similitud': similitud_coseno\n",
        "         })\n"
      ]
    },
    {
      "cell_type": "code",
      "execution_count": null,
      "id": "c5ca6134-8225-4881-9885-08d9ee07179f",
      "metadata": {
        "id": "c5ca6134-8225-4881-9885-08d9ee07179f"
      },
      "outputs": [],
      "source": [
        "MaximaParecidoNuevo = max(distancias, key= lambda x:  x['Similitud'])"
      ]
    },
    {
      "cell_type": "code",
      "execution_count": null,
      "id": "d7d3ea07-f8c9-45eb-8e24-7568ec985ffc",
      "metadata": {
        "id": "d7d3ea07-f8c9-45eb-8e24-7568ec985ffc",
        "outputId": "703a6fa4-f0f7-4f33-8aa6-8214de9ce273"
      },
      "outputs": [
        {
          "name": "stdout",
          "output_type": "stream",
          "text": [
            "{'Documento': '1', 'Similitud': 0.9934934812233943}\n"
          ]
        }
      ],
      "source": [
        "print(MaximaParecidoNuevo)"
      ]
    },
    {
      "cell_type": "code",
      "execution_count": null,
      "id": "9e77e50d-0356-49fa-922b-8f5e405afc34",
      "metadata": {
        "id": "9e77e50d-0356-49fa-922b-8f5e405afc34"
      },
      "outputs": [],
      "source": [
        "prediccion =clientes[clientes['Cli' ]  ==  MaximaParecidoNuevo ['Cliente']].iloc[ 0] ['Dep']"
      ]
    },
    {
      "cell_type": "code",
      "execution_count": null,
      "id": "ee8d60ee-8e82-48e8-bddd-f99b100753eb",
      "metadata": {
        "id": "ee8d60ee-8e82-48e8-bddd-f99b100753eb",
        "outputId": "09f17a45-46b6-4434-f11e-f04fb2ee0156"
      },
      "outputs": [
        {
          "name": "stdout",
          "output_type": "stream",
          "text": [
            "Predicción en Cliente N Deportes: 150.0\n"
          ]
        }
      ],
      "source": [
        "print('Predicción en Cliente N Deportes:', prediccion)"
      ]
    },
    {
      "cell_type": "code",
      "execution_count": null,
      "id": "8cc005ab-f0cc-45cc-9d0a-2eb4d2175628",
      "metadata": {
        "id": "8cc005ab-f0cc-45cc-9d0a-2eb4d2175628",
        "outputId": "4b98645d-31a7-4d7e-af93-550028d2bb65"
      },
      "outputs": [
        {
          "data": {
            "text/plain": [
              "150.0"
            ]
          },
          "execution_count": 345,
          "metadata": {},
          "output_type": "execute_result"
        }
      ],
      "source": [
        "clientes[clientes['Cli' ]  ==  MaximaParecidoNuevo ['Cliente']] ['Dep'].values[0]"
      ]
    }
  ],
  "metadata": {
    "kernelspec": {
      "display_name": "Python 3 (ipykernel)",
      "language": "python",
      "name": "python3"
    },
    "language_info": {
      "codemirror_mode": {
        "name": "ipython",
        "version": 3
      },
      "file_extension": ".py",
      "mimetype": "text/x-python",
      "name": "python",
      "nbconvert_exporter": "python",
      "pygments_lexer": "ipython3",
      "version": "3.12.9"
    },
    "colab": {
      "provenance": [],
      "include_colab_link": true
    }
  },
  "nbformat": 4,
  "nbformat_minor": 5
}